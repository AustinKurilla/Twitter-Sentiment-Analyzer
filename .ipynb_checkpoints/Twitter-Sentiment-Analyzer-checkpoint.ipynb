{
 "cells": [
  {
   "cell_type": "code",
   "execution_count": 197,
   "id": "573d050d",
   "metadata": {},
   "outputs": [
    {
     "name": "stderr",
     "output_type": "stream",
     "text": [
      "[nltk_data] Downloading package stopwords to\n",
      "[nltk_data]     C:\\Users\\auggi\\AppData\\Roaming\\nltk_data...\n",
      "[nltk_data]   Package stopwords is already up-to-date!\n"
     ]
    }
   ],
   "source": [
    "#imports\n",
    "import nltk.classify.util\n",
    "from nltk.classify import NaiveBayesClassifier\n",
    "from nltk.corpus import movie_reviews\n",
    "from nltk.corpus import stopwords\n",
    "from nltk.tokenize import word_tokenize\n",
    "nltk.download('stopwords')\n",
    "import pandas as pd\n",
    "import numpy as np\n",
    "import re\n",
    "from textblob import TextBlob"
   ]
  },
  {
   "cell_type": "code",
   "execution_count": 198,
   "id": "9066dadb",
   "metadata": {},
   "outputs": [
    {
     "name": "stdout",
     "output_type": "stream",
     "text": [
      "positive\n"
     ]
    }
   ],
   "source": [
    "#Read in Datafile\n",
    "df = pd.read_csv('IMDBDataset.csv').to_numpy()\n",
    "#temporary, cuts the dataset to 100 to save time running it when testing\n",
    "df = df[:100]\n",
    "print(df[1][1])"
   ]
  },
  {
   "cell_type": "code",
   "execution_count": 199,
   "id": "c517af29",
   "metadata": {},
   "outputs": [],
   "source": [
    "#Cleans HTML Input from string\n",
    "def cleanhtml(raw_html):\n",
    "  cleanr = re.compile('<.*?>')\n",
    "  cleantext = re.sub(cleanr, '', raw_html)\n",
    "  return TextBlob(cleantext)\n",
    "\n",
    "# This is how the Naive Bayes classifier expects the input\n",
    "# removes stopwords from string\n",
    "# returns a dictionary\n",
    "def create_word_features(words):\n",
    "    useful_words = [word for word in words if word not in stopwords.words(\"english\")]\n",
    "    my_dict = dict([(word, True) for word in useful_words])\n",
    "    return my_dict\n",
    "\n",
    "#Process Input\n",
    "def findusefulwords(arr):\n",
    "    unique_words = {}\n",
    "    useful_words = {}\n",
    "\n",
    "    for x in range (arr[0].size):\n",
    "       unique_words[x] = set(cleanhtml(arr[0][x]).split(' '))\n",
    "\n",
    "    for x in range (len(unique_words)):\n",
    "        useful_words[x] = create_word_features(unique_words[x])\n",
    "    return useful_words"
   ]
  },
  {
   "cell_type": "code",
   "execution_count": 238,
   "id": "22fd7162",
   "metadata": {},
   "outputs": [],
   "source": [
    "pos_reviews = []\n",
    "neg_reviews = []\n",
    "\n",
    "for x in range (100):\n",
    "    if(df[x][1] == 'positive'):\n",
    "        pos_reviews.append((df[x]))\n",
    "    elif(df[x][1] == 'negative'):\n",
    "        neg_reviews.append((df[x]))\n",
    "pos_reviews = np.array(pos_reviews).T\n",
    "pos_words = findusefulwords(pos_reviews)\n",
    "\n",
    "neg_reviews = np.array(neg_reviews).T\n",
    "neg_words = findusefulwords(neg_reviews)"
   ]
  },
  {
   "cell_type": "code",
   "execution_count": 240,
   "id": "6794ade1",
   "metadata": {},
   "outputs": [
    {
     "name": "stdout",
     "output_type": "stream",
     "text": [
      "42\n",
      "58\n",
      "{'closet': True, 'decides': True, 'them.': True, 'going': True, 'dialogs.': True, 'first': True, 'slower': True, 'I': True, 'see': True, 'real': True, 'drama': True, 'instead': True, 'Basically': True, 'life.': True, 'drama!': True, 'As': True, '&': True, 'opera...': True, 'BOOGEYMAN': True, 'Decide': True, 'Jake:': True, 'Jake': True, 'kill': True, 'suddenly,': True, 'divorcing': True, 'watchable.': True, 'fighting': True, '10': True, 'soap': True, 'well': True, '(Jake)': True, 'become': True, 'movie': True, 'must': True, 'thinks': True, 'playing': True, 'film': True, 'boy': True, 'watched': True, 'parents': True, 'ruins': True, 'expected': True, 'similar': True, 'zombie': True, 'Parents': True, 'meaningless': True, 'zombie.OK,': True, 'time.This': True, 'film!': True, 'descent': True, 'shots': True, 'thriller': True, 'make': True, 'Rambo': True, 'little': True, 'family': True, 'arguing': True, \"there's\": True, 'like': True, 'spots.3': True, 'ignore': True, 'totally': True, 'And': True, 'movie,': True}\n",
      "{'privacy': True, 'nickel,': True, 'Penitentary.': True, 'forget': True, 'skills': True, 'Muslims,': True, 'OZ': True, 'cells': True, 'surreal,': True, 'violence.': True, 'due': True, 'gangstas,': True, 'first': True, 'mannered,': True, 'get': True, 'I': True, 'experience)': True, 'would': True, 'pictures': True, 'never': True, 'mainly': True, 'GO.': True, 'faint': True, 'agenda.': True, \"who'll\": True, 'focuses': True, 'audiences,': True, 'around.': True, 'dare.': True, 'violence,': True, 'dodgy': True, 'agreements': True, 'sold': True, 'main': True, 'City,': True, 'got': True, 'Maximum': True, 'death': True, 'appeal': True, 'inwards,': True, 'The': True, 'Latinos,': True, 'hooked.': True, 'injustice': True, 'viewing....thats': True, 'unflinching': True, 'nickname': True, 'scenes': True, 'watching': True, 'section': True, 'ready': True, 'Oz,': True, 'class': True, 'side.': True, 'Forget': True, 'drugs,': True, 'comfortable': True, 'struck': True, 'middle': True, 'order': True, 'punches': True, 'uncomfortable': True, 'shows': True, 'exactly': True, 'lack': True, 'They': True, 'Irish': True, 'levels': True, 'me.The': True, 'kill': True, 'scuffles,': True, 'bitches': True, 'nasty': True, 'Em': True, 'Trust': True, 'word.It': True, 'State': True, 'many..Aryans,': True, 'Italians,': True, 'fact': True, '1': True, 'called': True, 'darker': True, 'away.I': True, 'It': True, 'high': True, 'fronts': True, 'mess': True, '(crooked': True, 'well': True, 'inmates': True, 'experimental': True, 'brutality': True, 'hardcore,': True, 'face': True, 'become': True, 'it,': True, 'developed': True, 'guards': True, 'shady': True, 'dealings': True, 'timid.': True, 'may': True, 'given': True, 'graphic': True, 'mainstream': True, 'set': True, 'mentioned': True, 'word': True, 'street': True, 'right': True, 'One': True, 'stares,': True, 'me,': True, 'charm,': True, 'watched': True, 'Christians,': True, 'home': True, 'Not': True, 'painted': True, 'Its': True, 'Oswald': True, 'thing': True, 'ever': True, 'right,': True, 'Watching': True, 'romance...OZ': True, 'glass': True, 'City': True, 'far': True, 'Emerald': True, 'away': True, 'regards': True, 'Oz': True, 'hearted': True, 'say': True, 'This': True, 'sex': True, 'classic': True, 'episode': True, 'more,': True, 'pulls': True, 'more....so': True, 'pretty': True, 'taste': True, 'touch': True, 'reviewers': True, 'use': True, 'accustomed': True, 'Security': True, 'happened': True, 'saw': True, 'turned': True, 'prison': True, 'show': True, 'goes': True}\n"
     ]
    }
   ],
   "source": [
    "print(len(pos_words))\n",
    "print(len(neg_words))\n",
    "\n",
    "print(neg_words[0])\n",
    "print(pos_words[0])"
   ]
  },
  {
   "cell_type": "code",
   "execution_count": null,
   "id": "a5f26425",
   "metadata": {},
   "outputs": [],
   "source": [
    "#https://www.pythonforengineers.com/build-a-sentiment-analysis-app-with-movie-reviews/"
   ]
  }
 ],
 "metadata": {
  "kernelspec": {
   "display_name": "Python 3",
   "language": "python",
   "name": "python3"
  },
  "language_info": {
   "codemirror_mode": {
    "name": "ipython",
    "version": 3
   },
   "file_extension": ".py",
   "mimetype": "text/x-python",
   "name": "python",
   "nbconvert_exporter": "python",
   "pygments_lexer": "ipython3",
   "version": "3.8.8"
  }
 },
 "nbformat": 4,
 "nbformat_minor": 5
}
