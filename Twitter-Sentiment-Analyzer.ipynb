{
 "cells": [
  {
   "cell_type": "code",
   "execution_count": 1,
   "id": "b271e203",
   "metadata": {},
   "outputs": [
    {
     "name": "stderr",
     "output_type": "stream",
     "text": [
      "[nltk_data] Downloading package stopwords to\n",
      "[nltk_data]     C:\\Users\\auggi\\AppData\\Roaming\\nltk_data...\n",
      "[nltk_data]   Package stopwords is already up-to-date!\n"
     ]
    }
   ],
   "source": [
    "#imports\n",
    "import nltk.classify.util\n",
    "from nltk.classify import NaiveBayesClassifier\n",
    "from nltk.corpus import movie_reviews\n",
    "from nltk.corpus import stopwords\n",
    "from nltk.tokenize import word_tokenize\n",
    "nltk.download('stopwords')\n",
    "import pandas as pd\n",
    "import numpy as np\n",
    "import re\n",
    "from textblob import TextBlob\n",
    "import itertools\n",
    "import os\n",
    "import tweepy as tw"
   ]
  },
  {
   "cell_type": "code",
   "execution_count": 2,
   "id": "b6413590",
   "metadata": {},
   "outputs": [
    {
     "name": "stdout",
     "output_type": "stream",
     "text": [
      "500\n"
     ]
    }
   ],
   "source": [
    "#Read in Datafile\n",
    "df = pd.read_csv('IMDBDataset.csv').to_numpy()\n",
    "#temporary, cuts the dataset to 100 to save time running it when testing\n",
    "df = df[:500]\n",
    "size = int(df.size/2)\n",
    "print(size)"
   ]
  },
  {
   "cell_type": "code",
   "execution_count": 3,
   "id": "969eecde",
   "metadata": {},
   "outputs": [],
   "source": [
    "#Cleans HTML Input from string\n",
    "def cleanhtml(raw_html):\n",
    "  cleanr = re.compile('<.*?>')\n",
    "  cleantext = re.sub(cleanr, '', raw_html) \n",
    "  return TextBlob(cleantext)\n",
    "\n",
    "# This is how the Naive Bayes classifier expects the input\n",
    "# removes stopwords from string\n",
    "# returns a dictionary\n",
    "def create_word_features(words):\n",
    "    useful_words = [word for word in words if word not in stopwords.words(\"english\")]\n",
    "    my_dict = dict([(word, True) for word in useful_words])\n",
    "    return my_dict\n",
    "\n",
    "#Process Input\n",
    "def findusefulwords(arr, sentiment):\n",
    "    unique_words = {}\n",
    "    useful_words = []\n",
    "\n",
    "    for x in range (arr[0].size):\n",
    "       unique_words[x] = set(cleanhtml(arr[0][x]).split(' '))\n",
    "\n",
    "    for x in range (len(unique_words)):\n",
    "        useful_words.append((create_word_features(unique_words[x]), sentiment))\n",
    "    return useful_words"
   ]
  },
  {
   "cell_type": "code",
   "execution_count": 4,
   "id": "4b83981b",
   "metadata": {},
   "outputs": [],
   "source": [
    "pos_reviews = []\n",
    "neg_reviews = []\n",
    "\n",
    "for x in range (size):\n",
    "    if(df[x][1] == 'positive'):\n",
    "        pos_reviews.append((df[x]))\n",
    "    elif(df[x][1] == 'negative'):\n",
    "        neg_reviews.append((df[x]))\n",
    "pos_reviews = np.array(pos_reviews).T\n",
    "pos_words = findusefulwords(pos_reviews,\"positive\")\n",
    "\n",
    "neg_reviews = np.array(neg_reviews).T\n",
    "neg_words = findusefulwords(neg_reviews,\"negative\")"
   ]
  },
  {
   "cell_type": "code",
   "execution_count": 5,
   "id": "8caa691b",
   "metadata": {},
   "outputs": [
    {
     "name": "stdout",
     "output_type": "stream",
     "text": [
      "237\n",
      "263\n",
      "({'prison': True, 'first': True, 'due': True, 'struck': True, 'side.': True, 'more....so': True, 'thing': True, 'forget': True, 'right': True, 'experimental': True, '1': True, 'say': True, 'taste': True, 'This': True, 'away': True, 'faint': True, 'well': True, 'lack': True, 'Watching': True, 'set': True, 'Irish': True, 'become': True, 'unflinching': True, 'City': True, 'brutality': True, 'ever': True, 'hooked.': True, 'City,': True, 'mess': True, 'home': True, 'comfortable': True, 'punches': True, 'sex': True, 'appeal': True, 'episode': True, 'agenda.': True, \"who'll\": True, 'section': True, 'Its': True, 'scuffles,': True, 'order': True, 'mentioned': True, 'class': True, 'inwards,': True, 'it,': True, 'mannered,': True, '(crooked': True, 'called': True, 'show': True, 'injustice': True, 'given': True, 'would': True, 'main': True, 'Trust': True, 'audiences,': True, 'happened': True, 'word.It': True, 'accustomed': True, 'Not': True, 'dare.': True, 'sold': True, 'viewing....thats': True, 'hardcore,': True, 'away.I': True, 'get': True, 'mainstream': True, 'privacy': True, 'I': True, 'levels': True, 'Security': True, 'experience)': True, 'agreements': True, 'pictures': True, 'Oswald': True, 'exactly': True, 'me.The': True, 'Emerald': True, 'Maximum': True, 'high': True, 'Em': True, 'nickel,': True, 'drugs,': True, 'pretty': True, 'The': True, 'right,': True, 'may': True, 'Oz,': True, 'dodgy': True, 'GO.': True, 'It': True, 'uncomfortable': True, 'saw': True, 'violence.': True, 'focuses': True, 'many..Aryans,': True, 'turned': True, 'glass': True, 'fact': True, 'scenes': True, 'cells': True, 'romance...OZ': True, 'reviewers': True, 'never': True, 'dealings': True, 'darker': True, 'inmates': True, 'painted': True, 'classic': True, 'Christians,': True, 'pulls': True, 'mainly': True, 'shady': True, 'bitches': True, 'touch': True, 'middle': True, 'nasty': True, 'word': True, 'goes': True, 'violence,': True, 'face': True, 'guards': True, 'State': True, 'gangstas,': True, 'timid.': True, 'shows': True, 'hearted': True, 'Oz': True, 'Italians,': True, 'OZ': True, 'Penitentary.': True, 'One': True, 'fronts': True, 'Latinos,': True, 'watching': True, 'regards': True, 'around.': True, 'kill': True, 'me,': True, 'They': True, 'nickname': True, 'use': True, 'got': True, 'charm,': True, 'more,': True, 'Muslims,': True, 'skills': True, 'death': True, 'stares,': True, 'ready': True, 'street': True, 'developed': True, 'graphic': True, 'watched': True, 'far': True, 'Forget': True, 'surreal,': True}, 'positive')\n",
      "({'first': True, 'little': True, 'Jake:': True, 'well': True, 'must': True, 'become': True, 'movie,': True, 'And': True, 'BOOGEYMAN': True, 'spots.3': True, 'Jake': True, 'family': True, 'closet': True, '(Jake)': True, 'As': True, 'drama': True, 'watchable.': True, 'going': True, 'time.This': True, 'ruins': True, 'film!': True, 'real': True, 'expected': True, 'totally': True, 'shots': True, 'film': True, 'zombie.OK,': True, 'arguing': True, \"there's\": True, 'I': True, 'similar': True, '10': True, 'slower': True, 'suddenly,': True, 'soap': True, 'zombie': True, 'boy': True, 'decides': True, 'movie': True, '&': True, 'parents': True, 'Rambo': True, 'instead': True, 'Basically': True, 'drama!': True, 'playing': True, 'thriller': True, 'descent': True, 'ignore': True, 'them.': True, 'Decide': True, 'life.': True, 'meaningless': True, 'divorcing': True, 'kill': True, 'dialogs.': True, 'opera...': True, 'see': True, 'like': True, 'Parents': True, 'thinks': True, 'watched': True, 'fighting': True, 'make': True}, 'negative')\n"
     ]
    }
   ],
   "source": [
    "print(len(pos_words))\n",
    "print(len(neg_words))\n",
    "print(pos_words[0])\n",
    "print(neg_words[0])"
   ]
  },
  {
   "cell_type": "code",
   "execution_count": 6,
   "id": "f82e72cc",
   "metadata": {},
   "outputs": [
    {
     "name": "stdout",
     "output_type": "stream",
     "text": [
      "400 100\n"
     ]
    }
   ],
   "source": [
    "train_set = neg_words[:200] + pos_words[:200]\n",
    "test_set =  neg_words[200:] + pos_words[200:]\n",
    "print(len(train_set),  len(test_set))"
   ]
  },
  {
   "cell_type": "code",
   "execution_count": 7,
   "id": "b1bfbc68",
   "metadata": {},
   "outputs": [],
   "source": [
    "#Classifier\n",
    "classifier = NaiveBayesClassifier.train(train_set)"
   ]
  },
  {
   "cell_type": "code",
   "execution_count": 8,
   "id": "edf2b6c4",
   "metadata": {},
   "outputs": [
    {
     "name": "stdout",
     "output_type": "stream",
     "text": [
      "73.0\n"
     ]
    }
   ],
   "source": [
    "accuracy = nltk.classify.util.accuracy(classifier, test_set)\n",
    "print(accuracy * 100)"
   ]
  },
  {
   "cell_type": "code",
   "execution_count": 11,
   "id": "b9733711",
   "metadata": {},
   "outputs": [],
   "source": [
    "#Twitter API\n",
    "import config\n",
    "consumer_key = config.consumer_key\n",
    "consumer_secret = config.consumer_secret\n",
    "access_token = config.access_token\n",
    "access_token_secret = config.access_token_secret\n",
    "\n",
    "auth = tw.OAuthHandler(consumer_key, consumer_secret)\n",
    "auth.set_access_token(access_token, access_token_secret)\n",
    "api = tw.API(auth, wait_on_rate_limit=True)"
   ]
  },
  {
   "cell_type": "code",
   "execution_count": 13,
   "id": "521b9b24",
   "metadata": {},
   "outputs": [
    {
     "data": {
      "text/plain": [
       "['@CarrieUrulz @SilentAmuse \"I’m one of the first guys to introduce a climate change bill, way, way back in ‘87.\" - J… https://t.co/qbtdmx1vPd',\n",
       " \"@jackdoranjr Climate change is real. I've seen the effects of the warming ocean on coral reefs and spoke to marine… https://t.co/EI6jy83TQG\",\n",
       " '@DougScha “is fighting climate change more important than” yes it is probably the most important issue period next question',\n",
       " '@Canadianworker2 @BridgetHolmstro @akaelwopo1 @IBergwiesel @ammocrypta @WayneAllanH @TheDisproof @Cole44749821… https://t.co/NvnbB1lNZ7',\n",
       " '@FT China is to get hundreds of millions out of the UN Green Climate Fund while maybe “condiering to give themselve… https://t.co/eNKCVMOKeM']"
      ]
     },
     "execution_count": 13,
     "metadata": {},
     "output_type": "execute_result"
    }
   ],
   "source": [
    "#Testing Twitter API\n",
    "new_search = \"climate+change -filter:retweets\"\n",
    "\n",
    "tweets = tw.Cursor(api.search,\n",
    "                   q=new_search,\n",
    "                   lang=\"en\",\n",
    "                   since='2018-04-23').items(1000)\n",
    "\n",
    "all_tweets = [tweet.text for tweet in tweets]\n",
    "all_tweets[:5]"
   ]
  },
  {
   "cell_type": "code",
   "execution_count": null,
   "id": "b242cbe4",
   "metadata": {},
   "outputs": [],
   "source": [
    "#TODO\n",
    "#Clean Tweets, Classify them, Find overall sentiments, add the ablity to input search string"
   ]
  },
  {
   "cell_type": "code",
   "execution_count": null,
   "id": "3d57e866",
   "metadata": {},
   "outputs": [],
   "source": [
    "#https://www.pythonforengineers.com/build-a-sentiment-analysis-app-with-movie-reviews/"
   ]
  }
 ],
 "metadata": {
  "kernelspec": {
   "display_name": "Python 3",
   "language": "python",
   "name": "python3"
  },
  "language_info": {
   "codemirror_mode": {
    "name": "ipython",
    "version": 3
   },
   "file_extension": ".py",
   "mimetype": "text/x-python",
   "name": "python",
   "nbconvert_exporter": "python",
   "pygments_lexer": "ipython3",
   "version": "3.8.8"
  }
 },
 "nbformat": 4,
 "nbformat_minor": 5
}
