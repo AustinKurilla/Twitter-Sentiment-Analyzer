{
 "cells": [
  {
   "cell_type": "code",
   "execution_count": 37,
   "id": "b271e203",
   "metadata": {},
   "outputs": [
    {
     "name": "stderr",
     "output_type": "stream",
     "text": [
      "[nltk_data] Downloading package stopwords to\n",
      "[nltk_data]     C:\\Users\\auggi\\AppData\\Roaming\\nltk_data...\n",
      "[nltk_data]   Package stopwords is already up-to-date!\n"
     ]
    }
   ],
   "source": [
    "#imports\n",
    "import nltk.classify.util\n",
    "from nltk.classify import NaiveBayesClassifier\n",
    "from nltk.corpus import movie_reviews\n",
    "from nltk.corpus import stopwords\n",
    "from nltk.tokenize import word_tokenize\n",
    "nltk.download('stopwords')\n",
    "import pandas as pd\n",
    "import numpy as np\n",
    "import re\n",
    "from textblob import TextBlob\n",
    "import itertools"
   ]
  },
  {
   "cell_type": "code",
   "execution_count": 38,
   "id": "b6413590",
   "metadata": {},
   "outputs": [
    {
     "name": "stdout",
     "output_type": "stream",
     "text": [
      "500\n"
     ]
    }
   ],
   "source": [
    "#Read in Datafile\n",
    "df = pd.read_csv('IMDBDataset.csv').to_numpy()\n",
    "#temporary, cuts the dataset to 100 to save time running it when testing\n",
    "df = df[:500]\n",
    "size = int(df.size/2)\n",
    "print(size)"
   ]
  },
  {
   "cell_type": "code",
   "execution_count": 93,
   "id": "969eecde",
   "metadata": {},
   "outputs": [],
   "source": [
    "#Cleans HTML Input from string\n",
    "def cleanhtml(raw_html):\n",
    "  cleanr = re.compile('<.*?>')\n",
    "  cleantext = re.sub(cleanr, '', raw_html)\n",
    "  return TextBlob(cleantext)\n",
    "\n",
    "# This is how the Naive Bayes classifier expects the input\n",
    "# removes stopwords from string\n",
    "# returns a dictionary\n",
    "def create_word_features(words):\n",
    "    useful_words = [word for word in words if word not in stopwords.words(\"english\")]\n",
    "    my_dict = dict([(word, True) for word in useful_words])\n",
    "    return my_dict\n",
    "\n",
    "#Process Input\n",
    "def findusefulwords(arr, sentiment):\n",
    "    unique_words = {}\n",
    "    useful_words = []\n",
    "\n",
    "    for x in range (arr[0].size):\n",
    "       unique_words[x] = set(cleanhtml(arr[0][x]).split(' '))\n",
    "\n",
    "    for x in range (len(unique_words)):\n",
    "        useful_words.append((create_word_features(unique_words[x]), sentiment))\n",
    "    return useful_words"
   ]
  },
  {
   "cell_type": "code",
   "execution_count": 94,
   "id": "4b83981b",
   "metadata": {},
   "outputs": [],
   "source": [
    "pos_reviews = []\n",
    "neg_reviews = []\n",
    "\n",
    "for x in range (size):\n",
    "    if(df[x][1] == 'positive'):\n",
    "        pos_reviews.append((df[x]))\n",
    "    elif(df[x][1] == 'negative'):\n",
    "        neg_reviews.append((df[x]))\n",
    "pos_reviews = np.array(pos_reviews).T\n",
    "pos_words = findusefulwords(pos_reviews,\"positive\")\n",
    "\n",
    "neg_reviews = np.array(neg_reviews).T\n",
    "neg_words = findusefulwords(neg_reviews,\"negative\")"
   ]
  },
  {
   "cell_type": "code",
   "execution_count": 95,
   "id": "8caa691b",
   "metadata": {},
   "outputs": [
    {
     "name": "stdout",
     "output_type": "stream",
     "text": [
      "237\n",
      "263\n",
      "({'shows': True, 'show': True, 'hearted': True, 'It': True, 'high': True, 'nasty': True, 'street': True, 'me.The': True, 'Em': True, '1': True, 'face': True, 'unflinching': True, 'mess': True, 'may': True, 'exactly': True, 'Emerald': True, 'lack': True, 'mainstream': True, 'audiences,': True, 'Oswald': True, 'Maximum': True, 'saw': True, 'taste': True, 'happened': True, 'Italians,': True, 'never': True, 'struck': True, 'would': True, 'fact': True, 'inwards,': True, 'ever': True, 'painted': True, \"who'll\": True, 'become': True, 'section': True, 'Its': True, 'mentioned': True, 'brutality': True, 'ready': True, 'One': True, 'main': True, 'They': True, 'skills': True, 'Oz,': True, 'watching': True, 'reviewers': True, 'fronts': True, 'experience)': True, 'thing': True, 'prison': True, 'away': True, 'Not': True, 'turned': True, 'right': True, 'Muslims,': True, 'violence,': True, 'violence.': True, 'GO.': True, 'sold': True, 'City': True, 'Latinos,': True, 'Oz': True, 'watched': True, 'pictures': True, 'injustice': True, 'regards': True, 'agenda.': True, 'Penitentary.': True, 'mainly': True, 'Christians,': True, 'focuses': True, 'City,': True, 'dealings': True, 'more....so': True, 'Irish': True, 'due': True, 'far': True, 'around.': True, 'This': True, 'away.I': True, 'death': True, 'many..Aryans,': True, 'developed': True, 'glass': True, 'bitches': True, 'called': True, 'The': True, 'faint': True, 'Security': True, 'sex': True, 'middle': True, 'home': True, 'get': True, 'use': True, 'first': True, 'well': True, 'given': True, 'privacy': True, '(crooked': True, 'romance...OZ': True, 'levels': True, 'kill': True, 'gangstas,': True, 'Watching': True, 'goes': True, 'graphic': True, 'word': True, 'inmates': True, 'word.It': True, 'class': True, 'uncomfortable': True, 'nickel,': True, 'forget': True, 'stares,': True, 'State': True, 'punches': True, 'scuffles,': True, 'cells': True, 'right,': True, 'dodgy': True, 'got': True, 'set': True, 'scenes': True, 'episode': True, 'appeal': True, 'classic': True, 'accustomed': True, 'experimental': True, 'Trust': True, 'viewing....thats': True, 'agreements': True, 'say': True, 'guards': True, 'charm,': True, 'order': True, 'surreal,': True, 'touch': True, 'darker': True, 'me,': True, 'mannered,': True, 'nickname': True, 'dare.': True, 'timid.': True, 'comfortable': True, 'I': True, 'shady': True, 'hardcore,': True, 'pretty': True, 'Forget': True, 'OZ': True, 'drugs,': True, 'more,': True, 'side.': True, 'it,': True, 'hooked.': True, 'pulls': True}, 'positive')\n",
      "({'shots': True, 'opera...': True, 'drama!': True, 'ruins': True, 'movie,': True, 'Rambo': True, 'family': True, 'going': True, 'film': True, 'parents': True, '(Jake)': True, 'similar': True, 'instead': True, 'thriller': True, 'little': True, 'drama': True, 'become': True, 'Jake': True, 'life.': True, 'Parents': True, 'watched': True, 'real': True, 'zombie': True, 'totally': True, 'spots.3': True, 'decides': True, 'Jake:': True, 'playing': True, 'descent': True, 'closet': True, 'arguing': True, 'Decide': True, 'dialogs.': True, 'first': True, 'boy': True, 'film!': True, 'well': True, '10': True, 'watchable.': True, 'kill': True, 'suddenly,': True, 'slower': True, 'As': True, 'like': True, \"there's\": True, 'BOOGEYMAN': True, 'Basically': True, 'see': True, 'fighting': True, 'divorcing': True, 'expected': True, 'time.This': True, 'movie': True, 'soap': True, 'ignore': True, 'must': True, 'zombie.OK,': True, '&': True, 'them.': True, 'thinks': True, 'I': True, 'meaningless': True, 'make': True, 'And': True}, 'negative')\n"
     ]
    }
   ],
   "source": [
    "print(len(pos_words))\n",
    "print(len(neg_words))\n",
    "print(pos_words[0])\n",
    "print(neg_words[0])"
   ]
  },
  {
   "cell_type": "code",
   "execution_count": 96,
   "id": "1f04e7e7",
   "metadata": {},
   "outputs": [
    {
     "name": "stdout",
     "output_type": "stream",
     "text": [
      "400 100\n"
     ]
    }
   ],
   "source": [
    "train_set = neg_words[:200] + pos_words[:200]\n",
    "test_set =  neg_words[200:] + pos_words[200:]\n",
    "print(len(train_set),  len(test_set))"
   ]
  },
  {
   "cell_type": "code",
   "execution_count": 97,
   "id": "3c80ec71",
   "metadata": {},
   "outputs": [],
   "source": [
    "#Classifier\n",
    "classifier = NaiveBayesClassifier.train(train_set)"
   ]
  },
  {
   "cell_type": "code",
   "execution_count": 98,
   "id": "53acd76a",
   "metadata": {},
   "outputs": [
    {
     "name": "stdout",
     "output_type": "stream",
     "text": [
      "73.0\n"
     ]
    }
   ],
   "source": [
    "accuracy = nltk.classify.util.accuracy(classifier, test_set)\n",
    "print(accuracy * 100)"
   ]
  },
  {
   "cell_type": "code",
   "execution_count": null,
   "id": "3d57e866",
   "metadata": {},
   "outputs": [],
   "source": [
    "#https://www.pythonforengineers.com/build-a-sentiment-analysis-app-with-movie-reviews/"
   ]
  }
 ],
 "metadata": {
  "kernelspec": {
   "display_name": "Python 3",
   "language": "python",
   "name": "python3"
  },
  "language_info": {
   "codemirror_mode": {
    "name": "ipython",
    "version": 3
   },
   "file_extension": ".py",
   "mimetype": "text/x-python",
   "name": "python",
   "nbconvert_exporter": "python",
   "pygments_lexer": "ipython3",
   "version": "3.8.8"
  }
 },
 "nbformat": 4,
 "nbformat_minor": 5
}
